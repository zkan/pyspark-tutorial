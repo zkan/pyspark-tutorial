{
 "cells": [
  {
   "cell_type": "code",
   "execution_count": 1,
   "id": "pregnant-length",
   "metadata": {},
   "outputs": [
    {
     "name": "stdout",
     "output_type": "stream",
     "text": [
      "+-----------+-----------------+------------+\n",
      "|person_name|  person_position|country_name|\n",
      "+-----------+-----------------+------------+\n",
      "|        Kan|   Data Craftsman|    Thailand|\n",
      "|      Pirth|    Data Engineer|   Australia|\n",
      "|        Man|Software Engineer|    Thailand|\n",
      "+-----------+-----------------+------------+\n",
      "\n"
     ]
    }
   ],
   "source": [
    "from pyspark.sql import SparkSession\n",
    "from pyspark.sql.functions import col\n",
    "\n",
    "\n",
    "spark = SparkSession.builder \\\n",
    "            .master('local[1]') \\\n",
    "            .appName('test') \\\n",
    "            .getOrCreate()\n",
    "\n",
    "person_df = spark.read \\\n",
    "        .option('header', 'true') \\\n",
    "        .csv('persons.csv')\n",
    "country_df= spark.read \\\n",
    "        .option('header', 'true') \\\n",
    "        .csv('countries.csv')\n",
    "\n",
    "person_df = person_df.alias('person_df')\n",
    "country_df = country_df.alias('country_df')\n",
    "# person_df.join(country_df, person_df.country_id == country_df.id) \\\n",
    "#     .select(['person_df.name', 'person_df.position', 'country_df.name']) \\\n",
    "#     .withColumnRenamed('person_df.name', 'person_name') \\\n",
    "#     .withColumnRenamed('country_df.name', 'country_name') \\\n",
    "#     .show()\n",
    "person_df.join(country_df, person_df.country_id == country_df.id) \\\n",
    "    .select(\n",
    "        col('person_df.name').alias('person_name'),\n",
    "        col('person_df.position').alias('person_position'),\n",
    "        col('country_df.name').alias('country_name')\n",
    "    ).show()"
   ]
  },
  {
   "cell_type": "code",
   "execution_count": null,
   "id": "fabulous-schema",
   "metadata": {},
   "outputs": [],
   "source": []
  }
 ],
 "metadata": {
  "kernelspec": {
   "display_name": "Python 3",
   "language": "python",
   "name": "python3"
  },
  "language_info": {
   "codemirror_mode": {
    "name": "ipython",
    "version": 3
   },
   "file_extension": ".py",
   "mimetype": "text/x-python",
   "name": "python",
   "nbconvert_exporter": "python",
   "pygments_lexer": "ipython3",
   "version": "3.8.4"
  }
 },
 "nbformat": 4,
 "nbformat_minor": 5
}
